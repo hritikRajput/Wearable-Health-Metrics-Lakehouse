{
 "cells": [
  {
   "cell_type": "code",
   "execution_count": null,
   "id": "dcdf7dbe-0025-48fa-9e39-ac6a82179d3b",
   "metadata": {},
   "outputs": [],
   "source": [
    "%run ./01-config"
   ]
  },
  {
   "cell_type": "code",
   "execution_count": null,
   "id": "57d6aca4-b5d3-4106-b7a5-7543c280cf12",
   "metadata": {},
   "outputs": [],
   "source": [
    "class HistoryLoader():\n",
    "    def __init__(self, env):\n",
    "        Conf = Config()\n",
    "        self.landing_zone = Conf.base_dir_data + \"/raw\"      \n",
    "        self.test_data_dir = Conf.base_dir_data + \"/test_data\"\n",
    "        self.catalog = env\n",
    "        self.db_name = Conf.db_name\n",
    "        \n",
    "    def load_date_lookup(self):        \n",
    "        print(f\"Loading date_lookup table...\", end='')        \n",
    "        spark.sql(f\"\"\"INSERT OVERWRITE TABLE {self.catalog}.{self.db_name}.date_lookup \n",
    "                SELECT date, week, year, month, dayofweek, dayofmonth, dayofyear, week_part \n",
    "                FROM json.`{self.test_data_dir}/6-date-lookup.json/`\"\"\")\n",
    "        print(\"Done\")\n",
    "        \n",
    "    def load_history(self):\n",
    "        import time\n",
    "        start = int(time.time())\n",
    "        print(f\"\\nStarting historical data load ...\")\n",
    "        self.load_date_lookup()\n",
    "        print(f\"Historical data load completed in {int(time.time()) - start} seconds\")\n",
    "        \n",
    "    def assert_count(self, table_name, expected_count):\n",
    "        print(f\"Validating record counts in {table_name}...\", end='')\n",
    "        actual_count = spark.read.table(f\"{self.catalog}.{self.db_name}.{table_name}\").count()\n",
    "        assert actual_count == expected_count, f\"Expected {expected_count:,} records, found {actual_count:,} in {table_name}\" \n",
    "        print(f\"Found {actual_count:,} / Expected {expected_count:,} records: Success\")        \n",
    "        \n",
    "    def validate(self):\n",
    "        import time\n",
    "        start = int(time.time())\n",
    "        print(f\"\\nStarting historical data load validation...\")\n",
    "        self.assert_count(f\"date_lookup\", 365)\n",
    "        print(f\"Historical data load validation completed in {int(time.time()) - start} seconds\")               \n"
   ]
  }
 ],
 "metadata": {
  "kernelspec": {
   "display_name": "Python 3 (ipykernel)",
   "language": "python",
   "name": "python3"
  },
  "language_info": {
   "codemirror_mode": {
    "name": "ipython",
    "version": 3
   },
   "file_extension": ".py",
   "mimetype": "text/x-python",
   "name": "python",
   "nbconvert_exporter": "python",
   "pygments_lexer": "ipython3",
   "version": "3.12.4"
  }
 },
 "nbformat": 4,
 "nbformat_minor": 5
}
